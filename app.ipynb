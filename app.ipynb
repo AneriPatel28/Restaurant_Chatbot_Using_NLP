{
 "cells": [
  {
   "cell_type": "code",
   "execution_count": 1,
   "id": "353856e0",
   "metadata": {},
   "outputs": [],
   "source": [
    "from flask import Flask, render_template, request, jsonify"
   ]
  },
  {
   "cell_type": "code",
   "execution_count": 2,
   "id": "3ec380f5",
   "metadata": {},
   "outputs": [
    {
     "name": "stdout",
     "output_type": "stream",
     "text": [
      "importing Jupyter notebook from Response_generator.ipynb\n",
      "importing Jupyter notebook from intent classifier.ipynb\n",
      "importing Jupyter notebook from Data_embedder.ipynb\n",
      "importing Jupyter notebook from sentence_normalizer.ipynb\n"
     ]
    }
   ],
   "source": [
    "import import_ipynb\n",
    "import Response_generator"
   ]
  },
  {
   "cell_type": "code",
   "execution_count": 3,
   "id": "2cf14ecb",
   "metadata": {},
   "outputs": [],
   "source": [
    "app = Flask(__name__)"
   ]
  },
  {
   "cell_type": "code",
   "execution_count": 4,
   "id": "3c4bc4cc",
   "metadata": {},
   "outputs": [],
   "source": [
    "@app.route('/')# mapping the URLs to a specific function that will handle the logic for that URL\n",
    "def index():\n",
    "    return render_template('index.html')#render_template is used to generate output from \n",
    "#a template file based on the Jinja2 engine that\n",
    "#is found in the application's templates folder."
   ]
  },
  {
   "cell_type": "code",
   "execution_count": 5,
   "id": "527f8891",
   "metadata": {},
   "outputs": [],
   "source": [
    "@app.route('/get')\n",
    "def get_bot_response():\n",
    "    message = request.args.get('msg')\n",
    "    response = \"\"\n",
    "    if message:\n",
    "        response = Response_generator.generate_response(message)\n",
    "        return str(response)\n",
    "    else:\n",
    "         return \"Missing Data!\"\n",
    "            "
   ]
  },
  {
   "cell_type": "code",
   "execution_count": null,
   "id": "73293bcb",
   "metadata": {},
   "outputs": [
    {
     "name": "stdout",
     "output_type": "stream",
     "text": [
      " * Serving Flask app '__main__' (lazy loading)\n",
      " * Environment: production\n",
      "\u001b[31m   WARNING: This is a development server. Do not use it in a production deployment.\u001b[0m\n",
      "\u001b[2m   Use a production WSGI server instead.\u001b[0m\n",
      " * Debug mode: off\n"
     ]
    },
    {
     "name": "stderr",
     "output_type": "stream",
     "text": [
      " * Running on http://127.0.0.1:5000 (Press CTRL+C to quit)\n",
      "127.0.0.1 - - [06/Jun/2022 10:02:28] \"GET / HTTP/1.1\" 200 -\n",
      "127.0.0.1 - - [06/Jun/2022 10:02:29] \"GET /static/images/slider.jpg HTTP/1.1\" 200 -\n",
      "127.0.0.1 - - [06/Jun/2022 10:02:29] \"\u001b[33mGET /apple-touch-icon-precomposed.png HTTP/1.1\u001b[0m\" 404 -\n",
      "127.0.0.1 - - [06/Jun/2022 10:02:29] \"\u001b[33mGET /apple-touch-icon.png HTTP/1.1\u001b[0m\" 404 -\n",
      "127.0.0.1 - - [06/Jun/2022 10:02:36] \"GET /get?msg=hi HTTP/1.1\" 200 -\n"
     ]
    },
    {
     "name": "stdout",
     "output_type": "stream",
     "text": [
      "greeting\n"
     ]
    },
    {
     "name": "stderr",
     "output_type": "stream",
     "text": [
      "127.0.0.1 - - [06/Jun/2022 10:02:59] \"GET /get?msg=what's%20your%20location%3F%3F HTTP/1.1\" 200 -\n"
     ]
    },
    {
     "name": "stdout",
     "output_type": "stream",
     "text": [
      "address\n"
     ]
    },
    {
     "name": "stderr",
     "output_type": "stream",
     "text": [
      "127.0.0.1 - - [06/Jun/2022 10:04:04] \"GET /get?msg=are%20you%20following%20covid%20protocols HTTP/1.1\" 200 -\n"
     ]
    },
    {
     "name": "stdout",
     "output_type": "stream",
     "text": [
      "sanitation\n"
     ]
    },
    {
     "name": "stderr",
     "output_type": "stream",
     "text": [
      "127.0.0.1 - - [06/Jun/2022 10:11:15] \"GET /get?msg=is%20there%20any%20special%20discount HTTP/1.1\" 200 -\n"
     ]
    },
    {
     "name": "stdout",
     "output_type": "stream",
     "text": [
      "offers\n"
     ]
    },
    {
     "name": "stderr",
     "output_type": "stream",
     "text": [
      "127.0.0.1 - - [06/Jun/2022 10:22:30] \"GET /get?msg=do%20you%20have%20any%20offer HTTP/1.1\" 200 -\n"
     ]
    },
    {
     "name": "stdout",
     "output_type": "stream",
     "text": [
      "offers\n"
     ]
    },
    {
     "name": "stderr",
     "output_type": "stream",
     "text": [
      "127.0.0.1 - - [06/Jun/2022 10:25:04] \"GET /get?msg=do%20you%20have%20any%20veg%20soup HTTP/1.1\" 200 -\n"
     ]
    },
    {
     "name": "stdout",
     "output_type": "stream",
     "text": [
      "veg_soup\n"
     ]
    },
    {
     "name": "stderr",
     "output_type": "stream",
     "text": [
      "127.0.0.1 - - [06/Jun/2022 10:28:18] \"GET /get?msg=what's%20in%20non%20veg%20main%20course%3F%3F HTTP/1.1\" 200 -\n"
     ]
    },
    {
     "name": "stdout",
     "output_type": "stream",
     "text": [
      "veg_imc\n"
     ]
    },
    {
     "name": "stderr",
     "output_type": "stream",
     "text": [
      "127.0.0.1 - - [06/Jun/2022 10:29:06] \"GET /get?msg=what's%20in%20nonveg%20main%20course%3F HTTP/1.1\" 200 -\n"
     ]
    },
    {
     "name": "stdout",
     "output_type": "stream",
     "text": [
      "nonveg_enquiry\n"
     ]
    },
    {
     "name": "stderr",
     "output_type": "stream",
     "text": [
      "127.0.0.1 - - [06/Jun/2022 10:30:02] \"GET /get?msg=what's%20in%20non%20veg%3F HTTP/1.1\" 200 -\n"
     ]
    },
    {
     "name": "stdout",
     "output_type": "stream",
     "text": [
      "nonveg_enquiry\n"
     ]
    },
    {
     "name": "stderr",
     "output_type": "stream",
     "text": [
      "127.0.0.1 - - [06/Jun/2022 10:30:31] \"GET /get?msg=what's%20in%20veg%3F HTTP/1.1\" 200 -\n"
     ]
    },
    {
     "name": "stdout",
     "output_type": "stream",
     "text": [
      "nonveg_enquiry\n"
     ]
    },
    {
     "name": "stderr",
     "output_type": "stream",
     "text": [
      "127.0.0.1 - - [06/Jun/2022 10:30:43] \"GET /get?msg=what%20is%20in%20veg%20option HTTP/1.1\" 200 -\n"
     ]
    },
    {
     "name": "stdout",
     "output_type": "stream",
     "text": [
      "nonveg_enquiry\n"
     ]
    },
    {
     "name": "stderr",
     "output_type": "stream",
     "text": [
      "127.0.0.1 - - [06/Jun/2022 10:31:37] \"GET /get?msg=do%20you%20have%20veg%20options HTTP/1.1\" 200 -\n"
     ]
    },
    {
     "name": "stdout",
     "output_type": "stream",
     "text": [
      "nonveg_enquiry\n"
     ]
    },
    {
     "name": "stderr",
     "output_type": "stream",
     "text": [
      "127.0.0.1 - - [06/Jun/2022 10:31:49] \"GET /get?msg=veg%20food HTTP/1.1\" 200 -\n"
     ]
    },
    {
     "name": "stdout",
     "output_type": "stream",
     "text": [
      "veg_pizza\n"
     ]
    }
   ],
   "source": [
    "if __name__ == \"__main__\":\n",
    "    app.run()"
   ]
  },
  {
   "cell_type": "code",
   "execution_count": null,
   "id": "dbf6faa7",
   "metadata": {},
   "outputs": [],
   "source": []
  },
  {
   "cell_type": "code",
   "execution_count": null,
   "id": "6a2d87fb",
   "metadata": {},
   "outputs": [],
   "source": []
  },
  {
   "cell_type": "code",
   "execution_count": null,
   "id": "6ca569d8",
   "metadata": {},
   "outputs": [],
   "source": []
  },
  {
   "cell_type": "code",
   "execution_count": null,
   "id": "9290feaf",
   "metadata": {},
   "outputs": [],
   "source": []
  },
  {
   "cell_type": "code",
   "execution_count": null,
   "id": "6bedb799",
   "metadata": {},
   "outputs": [],
   "source": []
  },
  {
   "cell_type": "code",
   "execution_count": null,
   "id": "8cf00bca",
   "metadata": {},
   "outputs": [],
   "source": []
  }
 ],
 "metadata": {
  "kernelspec": {
   "display_name": "Python 3 (ipykernel)",
   "language": "python",
   "name": "python3"
  },
  "language_info": {
   "codemirror_mode": {
    "name": "ipython",
    "version": 3
   },
   "file_extension": ".py",
   "mimetype": "text/x-python",
   "name": "python",
   "nbconvert_exporter": "python",
   "pygments_lexer": "ipython3",
   "version": "3.9.13"
  }
 },
 "nbformat": 4,
 "nbformat_minor": 5
}
