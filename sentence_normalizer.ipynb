{
 "cells": [
  {
   "cell_type": "code",
   "execution_count": 1,
   "id": "575f1f33",
   "metadata": {},
   "outputs": [],
   "source": [
    "from nltk.tokenize import RegexpTokenizer #splits a string into substrings using a regular expression\n",
    "from nltk.stem.wordnet import WordNetLemmatizer #\n",
    "\n",
    "\n",
    "stop_words = ['the', 'you', 'i', 'are', 'is', 'a', 'me', 'to', 'can', 'this', 'your', 'have', 'any', 'of', 'we', 'very',\n",
    "              'could', 'please', 'it', 'with', 'here', 'if', 'my', 'am']\n",
    "\n",
    "\n",
    "\n",
    "\n",
    "def lemmatize_sentence(tokens):\n",
    "# lemmatization is also used to reduce the word to their root word. \n",
    "#Lemmatizing gives the complete meaning of the word which makes sense.\n",
    "    lemmatizer = WordNetLemmatizer()\n",
    "    lemmatized_tokens = [lemmatizer.lemmatize(word,\"v\") for word in tokens]\n",
    "    return lemmatized_tokens\n",
    "\n",
    "\n",
    "def tokenize_and_remove_punctuation(sentence):\n",
    "#The process of breaking down the text data into individual tokens\n",
    "#(words, sentences, characters) is known as Tokenization. It is a \n",
    "#foremost step in Text Analytics.\n",
    "    tokenizer = RegexpTokenizer(r'\\w+')#matches one or more word characters\n",
    "    tokens = tokenizer.tokenize(sentence)\n",
    "    return tokens\n",
    "\n",
    "\n",
    "def remove_stopwords(word_tokens):\n",
    "    filtered_tokens = []\n",
    "    for w in word_tokens:\n",
    "        if w not in stop_words:\n",
    "            filtered_tokens.append(w)\n",
    "    return filtered_tokens\n",
    "\n",
    "\n",
    "'''\n",
    "Convert to lower case,\n",
    "remove punctuation\n",
    "lemmatize\n",
    "'''\n",
    "\n",
    "\n",
    "def preprocess_main(sent):\n",
    "    sent = sent.lower()\n",
    "    tokens = tokenize_and_remove_punctuation(sent)\n",
    "    lemmatized_tokens = lemmatize_sentence(tokens)\n",
    "    orig = lemmatized_tokens\n",
    "    filtered_tokens = remove_stopwords(lemmatized_tokens)\n",
    "    if len(filtered_tokens) == 0:\n",
    "        # if stop word removal removes everything, don't do it\n",
    "        filtered_tokens = orig\n",
    "    normalized_sent = \" \".join(filtered_tokens)\n",
    "    return normalized_sent\n"
   ]
  },
  {
   "cell_type": "code",
   "execution_count": null,
   "id": "0ca0bd27",
   "metadata": {},
   "outputs": [],
   "source": [
    "'''\n",
    "import nltk\n",
    "import ssl\n",
    "\n",
    "try:\n",
    "    _create_unverified_https_context = ssl._create_unverified_context\n",
    "except AttributeError:\n",
    "    pass\n",
    "else:\n",
    "    ssl._create_default_https_context = _create_unverified_https_context\n",
    "\n",
    "nltk.download()\n",
    "'''"
   ]
  }
 ],
 "metadata": {
  "kernelspec": {
   "display_name": "Python 3 (ipykernel)",
   "language": "python",
   "name": "python3"
  },
  "language_info": {
   "codemirror_mode": {
    "name": "ipython",
    "version": 3
   },
   "file_extension": ".py",
   "mimetype": "text/x-python",
   "name": "python",
   "nbconvert_exporter": "python",
   "pygments_lexer": "ipython3",
   "version": "3.9.13"
  }
 },
 "nbformat": 4,
 "nbformat_minor": 5
}
