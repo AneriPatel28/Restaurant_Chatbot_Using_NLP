{
 "cells": [
  {
   "cell_type": "code",
   "execution_count": 1,
   "id": "898a752d",
   "metadata": {},
   "outputs": [
    {
     "name": "stdout",
     "output_type": "stream",
     "text": [
      "importing Jupyter notebook from sentence_normalizer.ipynb\n"
     ]
    }
   ],
   "source": [
    "import json\n",
    "\n",
    "\n",
    "\n",
    "import fasttext as ft # pre trained english model\n",
    "ft.FastText.eprint = lambda x: None # we have done this to avoid warning\n",
    "import numpy as np\n",
    " \n",
    "import import_ipynb\n",
    "import sentence_normalizer\n",
    "\n",
    "def load_embedding_model():\n",
    "    ft_model = ft.load_model('cc.en.300.bin')\n",
    "    return ft_model\n",
    "\n",
    "def embed_sentence(sentence, ft_model):\n",
    "    sentence_vec = ft_model.get_sentence_vector(sentence)# FastText sum each word vector, each vector is divided with its norm (L2 norm) and then the averaging process only involves vectors that have positive L2 norm value.\n",
    "    return sentence_vec\n",
    "\n",
    "\n",
    "def parse_data(ft_model):\n",
    "    with open(\"/Users/aneripatel/Desktop/SEMESTER-6/30_AIML_Aneri/30_AIML_Aneri_Dataset/dataset.json\") as file:\n",
    "        data = json.load(file)\n",
    "    embedded_patterns = []\n",
    "    for intent in data['intents']:\n",
    "        for pattern in intent['patterns']:\n",
    "         \n",
    "            pattern = sentence_normalizer.preprocess_main(pattern)\n",
    "            embedded_sentence = embed_sentence(pattern, ft_model)\n",
    "\n",
    "            embedded_patterns.append(embedded_sentence)\n",
    "            intent['patterns'] = np.array(embedded_patterns).tolist()\n",
    "    return data\n",
    "\n",
    " \n",
    "def write_embedded_data(data):\n",
    "    json_object = json.dumps(data, indent=4)\n",
    "    with open(\"/Users/aneripatel/Desktop/SEMESTER-6/30_AIML_Aneri/30_AIML_Aneri_Dataset/embedded_data.json\", \"w\") as outfile:\n",
    "         outfile.write(json_object)\n",
    "            \n",
    "\n",
    "\n",
    "\n",
    "if __name__ == '__main__':\n",
    "    ft_model = load_embedding_model()\n",
    "    embedded_data = parse_data(ft_model)\n",
    "    write_embedded_data(embedded_data)\n"
   ]
  },
  {
   "cell_type": "code",
   "execution_count": null,
   "id": "52fa982b",
   "metadata": {},
   "outputs": [],
   "source": []
  }
 ],
 "metadata": {
  "kernelspec": {
   "display_name": "Python 3 (ipykernel)",
   "language": "python",
   "name": "python3"
  },
  "language_info": {
   "codemirror_mode": {
    "name": "ipython",
    "version": 3
   },
   "file_extension": ".py",
   "mimetype": "text/x-python",
   "name": "python",
   "nbconvert_exporter": "python",
   "pygments_lexer": "ipython3",
   "version": "3.9.13"
  }
 },
 "nbformat": 4,
 "nbformat_minor": 5
}
