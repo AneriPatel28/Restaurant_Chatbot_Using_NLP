{
 "cells": [
  {
   "cell_type": "code",
   "execution_count": 1,
   "id": "1804d804",
   "metadata": {},
   "outputs": [
    {
     "name": "stdout",
     "output_type": "stream",
     "text": [
      "importing Jupyter notebook from intent classifier.ipynb\n",
      "importing Jupyter notebook from Data_embedder.ipynb\n",
      "importing Jupyter notebook from sentence_normalizer.ipynb\n"
     ]
    }
   ],
   "source": [
    "import json\n",
    "import random\n",
    "import datetime\n",
    "import pymongo\n",
    "import uuid\n",
    "import import_ipynb\n",
    "import intent_classifier\n"
   ]
  },
  {
   "cell_type": "code",
   "execution_count": 2,
   "id": "006e0c60",
   "metadata": {},
   "outputs": [],
   "source": [
    "seat_count = 70\n",
    "client = pymongo.MongoClient(\"mongodb://localhost:27017/\")\n",
    "#The class MongoClient enables you to make successful MongoDB server connections \n",
    "#with your code. The MongoClient can accomplish this with client instances. \n",
    "#When you use the PyMongo driver with the MongoClient, coding and connections \n",
    "#happen more quickly.\n",
    "database = client[\"restaurant\"]\n",
    "menu_collection = database[\"menu\"]\n",
    "feedback_collection = database[\"feedback\"]\n",
    "bookings_collection = database[\"bookings\"]\n",
    "\n"
   ]
  },
  {
   "cell_type": "code",
   "execution_count": null,
   "id": "d89a48e2",
   "metadata": {},
   "outputs": [],
   "source": [
    "\n"
   ]
  },
  {
   "cell_type": "code",
   "execution_count": 3,
   "id": "d2c5bb83",
   "metadata": {},
   "outputs": [],
   "source": [
    "with open(\"/Users/aneripatel/Desktop/SEMESTER-6/30_AIML_Aneri/30_AIML_Aneri_Dataset/dataset.json\") as file:\n",
    "    data = json.load(file)"
   ]
  },
  {
   "cell_type": "code",
   "execution_count": 4,
   "id": "7313c81c",
   "metadata": {},
   "outputs": [],
   "source": [
    "with open('/Users/aneripatel/Desktop/SEMESTER-6/30_AIML_Aneri/30_AIML_Aneri_Dataset/menu.json') as file:\n",
    "    file_data = json.load(file)"
   ]
  },
  {
   "cell_type": "code",
   "execution_count": 5,
   "id": "1a5b66aa",
   "metadata": {},
   "outputs": [],
   "source": [
    "if isinstance(file_data, list):\n",
    "    menu_collection.insert_many(file_data)  \n",
    "else:\n",
    "    menu_collection.insert_one(file_data)"
   ]
  },
  {
   "cell_type": "code",
   "execution_count": 6,
   "id": "003d8e0b",
   "metadata": {},
   "outputs": [],
   "source": [
    "def get_intent(message):\n",
    "    tag = intent_classifier.classify(message)\n",
    "    return tag"
   ]
  },
  {
   "cell_type": "code",
   "execution_count": 7,
   "id": "d710fd5a",
   "metadata": {},
   "outputs": [],
   "source": [
    "def book_table():\n",
    "    global seat_count\n",
    "    seat_count = seat_count - 1\n",
    "    booking_id = str(uuid.uuid4()) #Generate a random UUID and store it in the form of string\n",
    "    now = datetime.datetime.now() #It will give current date and time  \n",
    "    booking_time = now.strftime(\"%Y-%m-%d %H:%M:%S\")\n",
    "    booking_doc = {\"booking_id\": booking_id, \"booking_time\": booking_time}\n",
    "    bookings_collection.insert_one(booking_doc)#It will insert booking document into a database\n",
    "    return booking_id"
   ]
  },
  {
   "cell_type": "code",
   "execution_count": 8,
   "id": "f2923178",
   "metadata": {},
   "outputs": [],
   "source": [
    "def suggest():\n",
    "    day = datetime.datetime.now()\n",
    "    day = day.strftime(\"%A\")#The strftime() function is used to convert date and time \n",
    "    #objects to their string representation\n",
    "    if day == \"Monday\":\n",
    "        response = 'Chef recommends: For Veg - Cheese Butter Masala, Peanut chaat :::: For non veg - Chicken Lababdar, Egg fried rice '\n",
    "    elif day == \"Tuesday\":\n",
    "        response = 'Chef recommends:  For Veg - For non veg Murgh Tikka Angara, Chicken Manchurian'\n",
    "\n",
    "    elif day == \"Wednesday\":\n",
    "        response = 'Chef recommends: For Veg - Crispy Paneer Sticks, Paneer Pasasnda :::: For non veg - Paneer Mughali, Chicken Biryani'\n",
    "\n",
    "    elif day == \"Thursday\":\n",
    "        response = 'Chef recommends: For Veg - Paneer Butter Masala, Kashmiri Naan :::: For non veg - Chicken Lolipop, Mutton Mehrunnsia'\n",
    "\n",
    "    elif day == \"Friday\":\n",
    "        response = 'Chef recommends: For Veg - Dal Makhani, Jeera Rice :::: For non veg - Chicken Tawa Masala, Cheese Garlic Naan'\n",
    "\n",
    "    elif day == \"Saturday\":\n",
    "        response = 'Chef recommends: For Veg - Hyderabadi Masala Dosa, Dahi wada :::: For non veg - Chicken Fried rice, Chicken Tikka Masala'\n",
    "\n",
    "    elif day == \"Sunday\":\n",
    "        response = 'Chef recommends: For Veg - Indian Kheer, Mix Uttapam :::: For non veg - Chicken sweet corn soup, Chicken Tikka Masala'\n",
    "        \n",
    "    return response"
   ]
  },
  {
   "cell_type": "code",
   "execution_count": 9,
   "id": "7eb719d3",
   "metadata": {},
   "outputs": [],
   "source": [
    "def record_feedback(message, type):\n",
    "    feedback_doc = {\"feedback_string\": message, \"type\": type}\n",
    "    feedback_collection.insert_one(feedback_doc)"
   ]
  },
  {
   "cell_type": "code",
   "execution_count": 10,
   "id": "728d26f5",
   "metadata": {},
   "outputs": [],
   "source": [
    "def get_specific_response(tag):\n",
    "    for intent in data['intents']:\n",
    "        if intent['tag'] == tag:\n",
    "            responses = intent['responses']\n",
    "    response = random.choice(responses)\n",
    "    return response"
   ]
  },
  {
   "cell_type": "code",
   "execution_count": 11,
   "id": "7e1ccb59",
   "metadata": {},
   "outputs": [],
   "source": [
    "def veg_soup():\n",
    "    query={\"veg\":\"Y\",\"category\": \"Soup\"}\n",
    "    veg_soup = menu_collection.find(query)\n",
    "    response = \"Veg Soup options are: \"+\" \\n \"\n",
    "    for x in veg_soup:\n",
    "            response = response + str(x.get(\"item\")) + \" for Rs. \" + str(x.get(\"cost\")) +\", \"\n",
    "        \n",
    "    return response\n",
    "\n"
   ]
  },
  {
   "cell_type": "code",
   "execution_count": 12,
   "id": "3d47d821",
   "metadata": {},
   "outputs": [],
   "source": [
    "def nonveg_soup():\n",
    "    query={\"Non veg\":\"Y\",\"category\": \"Soup\"}\n",
    "    nonveg_soup = menu_collection.find(query)\n",
    "    response = \"Non Veg Soup options are: \"+\" \\n \"\n",
    "    for x in nonveg_soup:\n",
    "            response = response + str(x.get(\"item\")) + \" for Rs. \" + str(x.get(\"cost\"))+ \", \"\n",
    "        \n",
    "    return response\n",
    "\n"
   ]
  },
  {
   "cell_type": "code",
   "execution_count": 13,
   "id": "63f25a61",
   "metadata": {},
   "outputs": [],
   "source": [
    "def veg_chinese():\n",
    "    query={\"veg\":\"Y\",\"category\": \"Chinese\"}\n",
    "    veg_chinese = menu_collection.find(query)\n",
    "    response = \"Veg Chinese options are: \"+\" \\n \"\n",
    "    for x in veg_chinese:\n",
    "            response = response + str(x.get(\"item\")) + \" for Rs. \" + str(x.get(\"cost\")) +\", \"\n",
    "        \n",
    "    return response"
   ]
  },
  {
   "cell_type": "code",
   "execution_count": 14,
   "id": "c474438b",
   "metadata": {},
   "outputs": [],
   "source": [
    "def nonveg_chinese():\n",
    "    query={\"Non veg\":\"Y\",\"category\": \"Chinese\"}\n",
    "    nonveg_chinese = menu_collection.find(query)\n",
    "    response = \"Non veg chinese options are: \"+\" \\n \"\n",
    "    for x in nonveg_chinese:\n",
    "            response = response + str(x.get(\"item\")) + \" for Rs. \" + str(x.get(\"cost\")) +\", \"\n",
    "        \n",
    "    return response"
   ]
  },
  {
   "cell_type": "code",
   "execution_count": 15,
   "id": "05a0402f",
   "metadata": {},
   "outputs": [],
   "source": [
    "def veg_imc():\n",
    "    query={\"veg\":\"Y\",\"category\":\"Indian Main Course\"}\n",
    "    veg_imc = menu_collection.find(query)\n",
    "    response = \"Veg Indian Main Course options are: \"+\" \\n \"\n",
    "    for x in veg_imc:\n",
    "            response = response + str(x.get(\"item\")) + \" for Rs. \" + str(x.get(\"cost\")) +\", \"\n",
    "        \n",
    "    return response"
   ]
  },
  {
   "cell_type": "code",
   "execution_count": 16,
   "id": "0a3e5949",
   "metadata": {},
   "outputs": [],
   "source": [
    "def nonveg_imc():\n",
    "    query={\"Non veg\":\"Y\",\"category\": \"Indian Main Course\"}\n",
    "    nonveg_imc = menu_collection.find(query)\n",
    "    response = \"Non Veg Indian Main Course options are: \"+\" \\n \"\n",
    "    for x in nonveg_imc:\n",
    "            response = response + str(x.get(\"item\")) + \" for Rs. \" + str(x.get(\"cost\")) +\", \"\n",
    "        \n",
    "    return response"
   ]
  },
  {
   "cell_type": "code",
   "execution_count": 17,
   "id": "7b6afb6c",
   "metadata": {},
   "outputs": [],
   "source": [
    "def veg_pizza():\n",
    "    query={\"veg\":\"Y\",\"category\": \"Pizza\"}\n",
    "    veg_pizza = menu_collection.find(query)\n",
    "    response = \"Veg Pizza options are: \"+\" \\n \"\n",
    "    for x in veg_pizza:\n",
    "            response = response + str(x.get(\"item\")) + \" for Rs. \" + str(x.get(\"cost\")) +\", \"\n",
    "        \n",
    "    return response\n",
    "    "
   ]
  },
  {
   "cell_type": "code",
   "execution_count": 18,
   "id": "cd1d3da9",
   "metadata": {},
   "outputs": [],
   "source": [
    "def nonveg_pizza():\n",
    "    query={\"Non veg\":\"Y\",\"category\": \"Pizza\"}\n",
    "    nonveg_pizza = menu_collection.find(query)\n",
    "    response = \"Non Veg Pizza options are: \"+\" \\n \"\n",
    "    for x in nonveg_pizza:\n",
    "            response = response + str(x.get(\"item\")) + \" for Rs. \" + str(x.get(\"cost\")) +\", \"\n",
    "        \n",
    "    return response"
   ]
  },
  {
   "cell_type": "code",
   "execution_count": 19,
   "id": "b0c712d1",
   "metadata": {},
   "outputs": [],
   "source": [
    "def veg_rice():\n",
    "    query={\"veg\":\"Y\",\"category\": \"Rice\"}\n",
    "    veg_rice = menu_collection.find(query)\n",
    "    response = \"Veg rice options are: \"+\" \\n \"\n",
    "    for x in veg_rice:\n",
    "            response = response + str(x.get(\"item\")) + \" for Rs. \" + str(x.get(\"cost\")) +\", \"\n",
    "    return response"
   ]
  },
  {
   "cell_type": "code",
   "execution_count": 20,
   "id": "c1eec55e",
   "metadata": {},
   "outputs": [],
   "source": [
    "def nonveg_rice():\n",
    "    query={\"Non veg\":\"Y\",\"category\": \"Rice\"}\n",
    "    nonveg_rice = menu_collection.find(query)\n",
    "    response = \"Non Veg rice options are: \"+\" \\n \"\n",
    "    for x in nonveg_rice:\n",
    "            response = response + str(x.get(\"item\")) + \" for Rs. \" + str(x.get(\"cost\")) +\", \"\n",
    "    \n",
    "        \n",
    "    return response"
   ]
  },
  {
   "cell_type": "code",
   "execution_count": 21,
   "id": "c2a286c1",
   "metadata": {},
   "outputs": [],
   "source": [
    "def breads():\n",
    "    query={\"veg\":\"Y\",\"category\": \"Breads\"}\n",
    "    breads = menu_collection.find(query)\n",
    "    response = \"Bread options are: \"+\" \\n \"\n",
    "    for x in breads:\n",
    "        response = response + str(x.get(\"item\")) + \" for Rs. \" + str(x.get(\"cost\")) + \", \"\n",
    "    return response"
   ]
  },
  {
   "cell_type": "code",
   "execution_count": 22,
   "id": "5505f8d2",
   "metadata": {},
   "outputs": [],
   "source": [
    "def dessert():\n",
    "    query={\"veg\":\"Y\",\"category\": \"Dessert\"}\n",
    "    dessert = menu_collection.find(query)\n",
    "   \n",
    "    response = \"Dessert options are: \"\n",
    "    for x in dessert:\n",
    "        response = response + str(x.get(\"item\")) + \" for Rs. \" + str(x.get(\"cost\"))+\", \" \n",
    "    return response"
   ]
  },
  {
   "cell_type": "code",
   "execution_count": 23,
   "id": "2a03f072",
   "metadata": {},
   "outputs": [],
   "source": [
    "def dal():\n",
    "    query={\"veg\":\"Y\",\"category\": \"Dal\"}\n",
    "    dal = menu_collection.find(query)\n",
    "    response = \"Dal options are: \"+\" \\n \"\n",
    "    for x in dal:\n",
    "        response = response + str(x.get(\"item\")) + \" for Rs. \" + str(x.get(\"cost\")) + \", \"\n",
    "    return response\n",
    "    "
   ]
  },
  {
   "cell_type": "code",
   "execution_count": 24,
   "id": "83b77af2",
   "metadata": {},
   "outputs": [],
   "source": [
    "def chaat():\n",
    "    query={\"veg\":\"Y\",\"category\": \"Chaat\"}\n",
    "    chaat = menu_collection.find(query)\n",
    "    response = \"Chaat options are: \"+\" \\n \"\n",
    "    for x in chaat:\n",
    "        response = response + str(x.get(\"item\")) + \" for Rs. \" + str(x.get(\"cost\")) + \", \"\n",
    "    return response\n",
    "  #adding pending  "
   ]
  },
  {
   "cell_type": "code",
   "execution_count": 25,
   "id": "7b4bc493",
   "metadata": {},
   "outputs": [],
   "source": [
    "def southindian():\n",
    "    query={\"veg\":\"Y\",\"category\": \"South Indian\"}\n",
    "    south_indian = menu_collection.find(query)\n",
    "    response = \"South Indian options are: \"+\" \\n \"\n",
    "    for x in south_indian:\n",
    "        response = response + str(x.get(\"item\")) + \" for Rs. \" + str(x.get(\"cost\"))+\", \"\n",
    "        \n",
    "    return response\n",
    "\n",
    "\n"
   ]
  },
  {
   "cell_type": "code",
   "execution_count": 26,
   "id": "38866e0a",
   "metadata": {},
   "outputs": [],
   "source": [
    "def show_menu():\n",
    "    all_items = menu_collection.distinct('item')\n",
    "    response=', '.join(all_items)\n",
    "    return response"
   ]
  },
  {
   "cell_type": "code",
   "execution_count": 27,
   "id": "7af5e71a",
   "metadata": {},
   "outputs": [],
   "source": [
    "def offers():\n",
    "    day = datetime.datetime.now()\n",
    "    day = day.strftime(\"%A\")#The strftime() function is used to convert date and time \n",
    "    #objects to their string representation\n",
    "    if day == \"Monday\":\n",
    "        response = 'Buy any 2 pizza and get 30% off'\n",
    "    elif day == \"Tuesday\":\n",
    "        response = 'Buy any one Indian main course and get 1 naan free'\n",
    "\n",
    "    elif day == \"Wednesday\":\n",
    "        response = 'Buy any 3 south indian dish and get 1 free '\n",
    "\n",
    "    elif day == \"Thursday\":\n",
    "        response = 'Buy any 4 chinese dish and get 25 % off'\n",
    "\n",
    "    elif day == \"Friday\":\n",
    "        response = 'Sorry no offer available'\n",
    "\n",
    "    elif day == \"Saturday\":\n",
    "        response = 'order any 5 dish and get 30 % off'\n",
    "\n",
    "    elif day == \"Sunday\":\n",
    "        response = 'Buy 2 Indian main course and get 1 Indian main course free'\n",
    "    return response"
   ]
  },
  {
   "cell_type": "code",
   "execution_count": null,
   "id": "bb41992d",
   "metadata": {},
   "outputs": [],
   "source": []
  },
  {
   "cell_type": "code",
   "execution_count": 28,
   "id": "ca075d1a",
   "metadata": {},
   "outputs": [],
   "source": [
    "def generate_response(message):\n",
    "    global seat_count\n",
    "    tag = get_intent(message)\n",
    "    print(tag)\n",
    "    response = \"\"\n",
    "    if tag != \"\":\n",
    "        if tag == \"suggest\":\n",
    "            response = suggest()\n",
    "            \n",
    "            \n",
    "        elif tag == \"book_table\":\n",
    "            if seat_count > 0:\n",
    "                booking_id = book_table()\n",
    "                response = \"Your table has been booked successfully. Please show this Booking ID at the counter: \" + str(\n",
    "                    booking_id)\n",
    "            else:\n",
    "                response = \"Sorry we are sold out now!\"\n",
    "    \n",
    "        elif tag == \"available_tables\":\n",
    "            response = \"There are \" + str(seat_count) + \" table(s) available at the moment.\"\n",
    "\n",
    "        elif tag == \"veg_soup\":\n",
    "            response = veg_soup()\n",
    "            \n",
    "            \n",
    "        elif tag == \"nonveg_soup\":\n",
    "            response = nonveg_soup()\n",
    "            \n",
    "            \n",
    "            \n",
    "        elif tag == \"veg_chinese\":\n",
    "            response = veg_chinese()\n",
    "            \n",
    "            \n",
    "            \n",
    "        elif tag == \"nonveg_chinese\":\n",
    "            response = nonveg_chinese()\n",
    "            \n",
    "            \n",
    "            \n",
    "        elif tag == \"bread\":\n",
    "            response = breads()\n",
    "            \n",
    "            \n",
    "            \n",
    "        elif tag == \"dessert\":\n",
    "            response = dessert()\n",
    "            \n",
    "            \n",
    "            \n",
    "        elif tag == \"dal\":\n",
    "            response = dal()\n",
    "            \n",
    "            \n",
    "            \n",
    "        elif tag == \"south_indian\":\n",
    "            response = southindian()\n",
    "            \n",
    "            \n",
    "            \n",
    "        elif tag == \"nonveg_rice\":\n",
    "            response = nonveg_rice()\n",
    "            \n",
    "            \n",
    "        elif tag == \"veg_rice\":\n",
    "            response = veg_rice()\n",
    "            \n",
    "            \n",
    "            \n",
    "        elif tag == \"veg_pizza\":\n",
    "            response = veg_pizza()            \n",
    "            \n",
    "            \n",
    "            \n",
    "            \n",
    "        elif tag == \"nonveg_pizza\":\n",
    "            response = nonveg_pizza()             \n",
    "            \n",
    "            \n",
    "            \n",
    "\n",
    "        elif tag == \"veg_imc\":\n",
    "            response = veg_imc()\n",
    "            \n",
    "            \n",
    "            \n",
    "            \n",
    "        elif tag == \"nonveg_imc\":\n",
    "            response = nonveg_imc()\n",
    "            \n",
    "            \n",
    "            \n",
    "        elif tag == \"chaat\":\n",
    "            response = chaat()\n",
    "        \n",
    "        elif tag == \"menu\":\n",
    "            response = show_menu()\n",
    "        \n",
    "        elif tag == \"offers\":\n",
    "            response = offers()\n",
    "            \n",
    "        elif tag == \"positive_feedback\":\n",
    "            record_feedback(message, \"positive\")\n",
    "            response = \"Thank you so much for your valuable feedback. We look forward to serving you again!\"\n",
    "\n",
    "        elif \"negative_feedback\" == tag:\n",
    "            record_feedback(message, \"negative\")\n",
    "            response = \"Thank you so much for your valuable feedback. We deeply regret the inconvenience. We have \" \\\n",
    "                       \"forwarded your concerns to the authority and hope to satisfy you better the next time! \"\n",
    "            \n",
    "            \n",
    "        else :\n",
    "            response = get_specific_response(tag)\n",
    "    \n",
    "    else:\n",
    "        response = \"Sorry! I didn't get it, please try to be more precise.\"\n",
    "    return response"
   ]
  }
 ],
 "metadata": {
  "kernelspec": {
   "display_name": "Python 3 (ipykernel)",
   "language": "python",
   "name": "python3"
  },
  "language_info": {
   "codemirror_mode": {
    "name": "ipython",
    "version": 3
   },
   "file_extension": ".py",
   "mimetype": "text/x-python",
   "name": "python",
   "nbconvert_exporter": "python",
   "pygments_lexer": "ipython3",
   "version": "3.9.13"
  }
 },
 "nbformat": 4,
 "nbformat_minor": 5
}
